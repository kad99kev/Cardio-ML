{
 "cells": [
  {
   "cell_type": "code",
   "execution_count": 1,
   "metadata": {
    "_cell_guid": "b1076dfc-b9ad-4769-8c92-a6c4dae69d19",
    "_uuid": "8f2839f25d086af736a60e9eeb907d3b93b6e0e5"
   },
   "outputs": [
    {
     "ename": "FileNotFoundError",
     "evalue": "[Errno 2] No such file or directory: '../input'",
     "output_type": "error",
     "traceback": [
      "\u001b[0;31m---------------------------------------------------------------------------\u001b[0m",
      "\u001b[0;31mFileNotFoundError\u001b[0m                         Traceback (most recent call last)",
      "\u001b[0;32m<ipython-input-1-564362726dbd>\u001b[0m in \u001b[0;36m<module>\u001b[0;34m\u001b[0m\n\u001b[1;32m     12\u001b[0m \u001b[0;34m\u001b[0m\u001b[0m\n\u001b[1;32m     13\u001b[0m \u001b[0;32mimport\u001b[0m \u001b[0mos\u001b[0m\u001b[0;34m\u001b[0m\u001b[0;34m\u001b[0m\u001b[0m\n\u001b[0;32m---> 14\u001b[0;31m \u001b[0mprint\u001b[0m\u001b[0;34m(\u001b[0m\u001b[0mos\u001b[0m\u001b[0;34m.\u001b[0m\u001b[0mlistdir\u001b[0m\u001b[0;34m(\u001b[0m\u001b[0;34m\"../input\"\u001b[0m\u001b[0;34m)\u001b[0m\u001b[0;34m)\u001b[0m\u001b[0;34m\u001b[0m\u001b[0;34m\u001b[0m\u001b[0m\n\u001b[0m\u001b[1;32m     15\u001b[0m \u001b[0;34m\u001b[0m\u001b[0m\n\u001b[1;32m     16\u001b[0m \u001b[0;31m# Any results you write to the current directory are saved as output.\u001b[0m\u001b[0;34m\u001b[0m\u001b[0;34m\u001b[0m\u001b[0;34m\u001b[0m\u001b[0m\n",
      "\u001b[0;31mFileNotFoundError\u001b[0m: [Errno 2] No such file or directory: '../input'"
     ]
    }
   ],
   "source": [
    "# This Python 3 environment comes with many helpful analytics libraries installed\n",
    "# It is defined by the kaggle/python docker image: https://github.com/kaggle/docker-python\n",
    "# For example, here's several helpful packages to load in \n",
    "\n",
    "import numpy as np # linear algebra\n",
    "import pandas as pd # data processing, CSV file I/O (e.g. pd.read_csv)\n",
    "import seaborn as sns\n",
    "from matplotlib import pyplot as plt\n",
    "\n",
    "# Input data files are available in the \"../input/\" directory.\n",
    "# For example, running this (by clicking run or pressing Shift+Enter) will list the files in the input directory\n",
    "\n",
    "import os\n",
    "print(os.listdir(\"../input\"))\n",
    "\n",
    "# Any results you write to the current directory are saved as output."
   ]
  },
  {
   "cell_type": "markdown",
   "metadata": {
    "_uuid": "c644842858f206a165ddaf2bc72dc4a925978537"
   },
   "source": [
    "First we import the dataset."
   ]
  },
  {
   "cell_type": "code",
   "execution_count": 2,
   "metadata": {
    "_cell_guid": "79c7e3d0-c299-4dcb-8224-4455121ee9b0",
    "_uuid": "d629ff2d2480ee46fbb7e2d37f6b5fab8052498a"
   },
   "outputs": [
    {
     "ename": "FileNotFoundError",
     "evalue": "File b'../input/cardio_train.csv' does not exist",
     "output_type": "error",
     "traceback": [
      "\u001b[0;31m---------------------------------------------------------------------------\u001b[0m",
      "\u001b[0;31mFileNotFoundError\u001b[0m                         Traceback (most recent call last)",
      "\u001b[0;32m<ipython-input-2-d79dcd892fd8>\u001b[0m in \u001b[0;36m<module>\u001b[0;34m\u001b[0m\n\u001b[0;32m----> 1\u001b[0;31m \u001b[0mdataset\u001b[0m \u001b[0;34m=\u001b[0m \u001b[0mpd\u001b[0m\u001b[0;34m.\u001b[0m\u001b[0mread_csv\u001b[0m\u001b[0;34m(\u001b[0m\u001b[0;34m'../input/cardio_train.csv'\u001b[0m\u001b[0;34m,\u001b[0m \u001b[0msep\u001b[0m \u001b[0;34m=\u001b[0m \u001b[0;34m';'\u001b[0m\u001b[0;34m)\u001b[0m\u001b[0;34m\u001b[0m\u001b[0;34m\u001b[0m\u001b[0m\n\u001b[0m",
      "\u001b[0;32m/anaconda3/lib/python3.7/site-packages/pandas/io/parsers.py\u001b[0m in \u001b[0;36mparser_f\u001b[0;34m(filepath_or_buffer, sep, delimiter, header, names, index_col, usecols, squeeze, prefix, mangle_dupe_cols, dtype, engine, converters, true_values, false_values, skipinitialspace, skiprows, nrows, na_values, keep_default_na, na_filter, verbose, skip_blank_lines, parse_dates, infer_datetime_format, keep_date_col, date_parser, dayfirst, iterator, chunksize, compression, thousands, decimal, lineterminator, quotechar, quoting, escapechar, comment, encoding, dialect, tupleize_cols, error_bad_lines, warn_bad_lines, skipfooter, doublequote, delim_whitespace, low_memory, memory_map, float_precision)\u001b[0m\n\u001b[1;32m    676\u001b[0m                     skip_blank_lines=skip_blank_lines)\n\u001b[1;32m    677\u001b[0m \u001b[0;34m\u001b[0m\u001b[0m\n\u001b[0;32m--> 678\u001b[0;31m         \u001b[0;32mreturn\u001b[0m \u001b[0m_read\u001b[0m\u001b[0;34m(\u001b[0m\u001b[0mfilepath_or_buffer\u001b[0m\u001b[0;34m,\u001b[0m \u001b[0mkwds\u001b[0m\u001b[0;34m)\u001b[0m\u001b[0;34m\u001b[0m\u001b[0;34m\u001b[0m\u001b[0m\n\u001b[0m\u001b[1;32m    679\u001b[0m \u001b[0;34m\u001b[0m\u001b[0m\n\u001b[1;32m    680\u001b[0m     \u001b[0mparser_f\u001b[0m\u001b[0;34m.\u001b[0m\u001b[0m__name__\u001b[0m \u001b[0;34m=\u001b[0m \u001b[0mname\u001b[0m\u001b[0;34m\u001b[0m\u001b[0;34m\u001b[0m\u001b[0m\n",
      "\u001b[0;32m/anaconda3/lib/python3.7/site-packages/pandas/io/parsers.py\u001b[0m in \u001b[0;36m_read\u001b[0;34m(filepath_or_buffer, kwds)\u001b[0m\n\u001b[1;32m    438\u001b[0m \u001b[0;34m\u001b[0m\u001b[0m\n\u001b[1;32m    439\u001b[0m     \u001b[0;31m# Create the parser.\u001b[0m\u001b[0;34m\u001b[0m\u001b[0;34m\u001b[0m\u001b[0;34m\u001b[0m\u001b[0m\n\u001b[0;32m--> 440\u001b[0;31m     \u001b[0mparser\u001b[0m \u001b[0;34m=\u001b[0m \u001b[0mTextFileReader\u001b[0m\u001b[0;34m(\u001b[0m\u001b[0mfilepath_or_buffer\u001b[0m\u001b[0;34m,\u001b[0m \u001b[0;34m**\u001b[0m\u001b[0mkwds\u001b[0m\u001b[0;34m)\u001b[0m\u001b[0;34m\u001b[0m\u001b[0;34m\u001b[0m\u001b[0m\n\u001b[0m\u001b[1;32m    441\u001b[0m \u001b[0;34m\u001b[0m\u001b[0m\n\u001b[1;32m    442\u001b[0m     \u001b[0;32mif\u001b[0m \u001b[0mchunksize\u001b[0m \u001b[0;32mor\u001b[0m \u001b[0miterator\u001b[0m\u001b[0;34m:\u001b[0m\u001b[0;34m\u001b[0m\u001b[0;34m\u001b[0m\u001b[0m\n",
      "\u001b[0;32m/anaconda3/lib/python3.7/site-packages/pandas/io/parsers.py\u001b[0m in \u001b[0;36m__init__\u001b[0;34m(self, f, engine, **kwds)\u001b[0m\n\u001b[1;32m    785\u001b[0m             \u001b[0mself\u001b[0m\u001b[0;34m.\u001b[0m\u001b[0moptions\u001b[0m\u001b[0;34m[\u001b[0m\u001b[0;34m'has_index_names'\u001b[0m\u001b[0;34m]\u001b[0m \u001b[0;34m=\u001b[0m \u001b[0mkwds\u001b[0m\u001b[0;34m[\u001b[0m\u001b[0;34m'has_index_names'\u001b[0m\u001b[0;34m]\u001b[0m\u001b[0;34m\u001b[0m\u001b[0;34m\u001b[0m\u001b[0m\n\u001b[1;32m    786\u001b[0m \u001b[0;34m\u001b[0m\u001b[0m\n\u001b[0;32m--> 787\u001b[0;31m         \u001b[0mself\u001b[0m\u001b[0;34m.\u001b[0m\u001b[0m_make_engine\u001b[0m\u001b[0;34m(\u001b[0m\u001b[0mself\u001b[0m\u001b[0;34m.\u001b[0m\u001b[0mengine\u001b[0m\u001b[0;34m)\u001b[0m\u001b[0;34m\u001b[0m\u001b[0;34m\u001b[0m\u001b[0m\n\u001b[0m\u001b[1;32m    788\u001b[0m \u001b[0;34m\u001b[0m\u001b[0m\n\u001b[1;32m    789\u001b[0m     \u001b[0;32mdef\u001b[0m \u001b[0mclose\u001b[0m\u001b[0;34m(\u001b[0m\u001b[0mself\u001b[0m\u001b[0;34m)\u001b[0m\u001b[0;34m:\u001b[0m\u001b[0;34m\u001b[0m\u001b[0;34m\u001b[0m\u001b[0m\n",
      "\u001b[0;32m/anaconda3/lib/python3.7/site-packages/pandas/io/parsers.py\u001b[0m in \u001b[0;36m_make_engine\u001b[0;34m(self, engine)\u001b[0m\n\u001b[1;32m   1012\u001b[0m     \u001b[0;32mdef\u001b[0m \u001b[0m_make_engine\u001b[0m\u001b[0;34m(\u001b[0m\u001b[0mself\u001b[0m\u001b[0;34m,\u001b[0m \u001b[0mengine\u001b[0m\u001b[0;34m=\u001b[0m\u001b[0;34m'c'\u001b[0m\u001b[0;34m)\u001b[0m\u001b[0;34m:\u001b[0m\u001b[0;34m\u001b[0m\u001b[0;34m\u001b[0m\u001b[0m\n\u001b[1;32m   1013\u001b[0m         \u001b[0;32mif\u001b[0m \u001b[0mengine\u001b[0m \u001b[0;34m==\u001b[0m \u001b[0;34m'c'\u001b[0m\u001b[0;34m:\u001b[0m\u001b[0;34m\u001b[0m\u001b[0;34m\u001b[0m\u001b[0m\n\u001b[0;32m-> 1014\u001b[0;31m             \u001b[0mself\u001b[0m\u001b[0;34m.\u001b[0m\u001b[0m_engine\u001b[0m \u001b[0;34m=\u001b[0m \u001b[0mCParserWrapper\u001b[0m\u001b[0;34m(\u001b[0m\u001b[0mself\u001b[0m\u001b[0;34m.\u001b[0m\u001b[0mf\u001b[0m\u001b[0;34m,\u001b[0m \u001b[0;34m**\u001b[0m\u001b[0mself\u001b[0m\u001b[0;34m.\u001b[0m\u001b[0moptions\u001b[0m\u001b[0;34m)\u001b[0m\u001b[0;34m\u001b[0m\u001b[0;34m\u001b[0m\u001b[0m\n\u001b[0m\u001b[1;32m   1015\u001b[0m         \u001b[0;32melse\u001b[0m\u001b[0;34m:\u001b[0m\u001b[0;34m\u001b[0m\u001b[0;34m\u001b[0m\u001b[0m\n\u001b[1;32m   1016\u001b[0m             \u001b[0;32mif\u001b[0m \u001b[0mengine\u001b[0m \u001b[0;34m==\u001b[0m \u001b[0;34m'python'\u001b[0m\u001b[0;34m:\u001b[0m\u001b[0;34m\u001b[0m\u001b[0;34m\u001b[0m\u001b[0m\n",
      "\u001b[0;32m/anaconda3/lib/python3.7/site-packages/pandas/io/parsers.py\u001b[0m in \u001b[0;36m__init__\u001b[0;34m(self, src, **kwds)\u001b[0m\n\u001b[1;32m   1706\u001b[0m         \u001b[0mkwds\u001b[0m\u001b[0;34m[\u001b[0m\u001b[0;34m'usecols'\u001b[0m\u001b[0;34m]\u001b[0m \u001b[0;34m=\u001b[0m \u001b[0mself\u001b[0m\u001b[0;34m.\u001b[0m\u001b[0musecols\u001b[0m\u001b[0;34m\u001b[0m\u001b[0;34m\u001b[0m\u001b[0m\n\u001b[1;32m   1707\u001b[0m \u001b[0;34m\u001b[0m\u001b[0m\n\u001b[0;32m-> 1708\u001b[0;31m         \u001b[0mself\u001b[0m\u001b[0;34m.\u001b[0m\u001b[0m_reader\u001b[0m \u001b[0;34m=\u001b[0m \u001b[0mparsers\u001b[0m\u001b[0;34m.\u001b[0m\u001b[0mTextReader\u001b[0m\u001b[0;34m(\u001b[0m\u001b[0msrc\u001b[0m\u001b[0;34m,\u001b[0m \u001b[0;34m**\u001b[0m\u001b[0mkwds\u001b[0m\u001b[0;34m)\u001b[0m\u001b[0;34m\u001b[0m\u001b[0;34m\u001b[0m\u001b[0m\n\u001b[0m\u001b[1;32m   1709\u001b[0m \u001b[0;34m\u001b[0m\u001b[0m\n\u001b[1;32m   1710\u001b[0m         \u001b[0mpassed_names\u001b[0m \u001b[0;34m=\u001b[0m \u001b[0mself\u001b[0m\u001b[0;34m.\u001b[0m\u001b[0mnames\u001b[0m \u001b[0;32mis\u001b[0m \u001b[0;32mNone\u001b[0m\u001b[0;34m\u001b[0m\u001b[0;34m\u001b[0m\u001b[0m\n",
      "\u001b[0;32mpandas/_libs/parsers.pyx\u001b[0m in \u001b[0;36mpandas._libs.parsers.TextReader.__cinit__\u001b[0;34m()\u001b[0m\n",
      "\u001b[0;32mpandas/_libs/parsers.pyx\u001b[0m in \u001b[0;36mpandas._libs.parsers.TextReader._setup_parser_source\u001b[0;34m()\u001b[0m\n",
      "\u001b[0;31mFileNotFoundError\u001b[0m: File b'../input/cardio_train.csv' does not exist"
     ]
    }
   ],
   "source": [
    "dataset = pd.read_csv('../input/cardio_train.csv', sep = ';')"
   ]
  },
  {
   "cell_type": "markdown",
   "metadata": {
    "_uuid": "9a6a3191e162ebb77a3643751ca15c74ba98fcfa"
   },
   "source": [
    "Now checking the various features of the dataset."
   ]
  },
  {
   "cell_type": "code",
   "execution_count": null,
   "metadata": {
    "_uuid": "d5d56869a45c61a790c350aaf210dec587a12b8c"
   },
   "outputs": [],
   "source": [
    "dataset.info()"
   ]
  },
  {
   "cell_type": "markdown",
   "metadata": {
    "_uuid": "530f2dcc054a22c0b4c8ffd0e492df5c46b0076d"
   },
   "source": [
    "* RangeIndex: 70000 entries, 0 to 69999\n",
    "* Data columns (total 13 columns):\n",
    "* id             70000 non-null int64\n",
    "* age            70000 non-null int64\n",
    "* gender         70000 non-null int64\n",
    "* height         70000 non-null int64\n",
    "* weight         70000 non-null float64\n",
    "* ap_hi          70000 non-null int64\n",
    "* ap_lo          70000 non-null int64\n",
    "* cholesterol    70000 non-null int64\n",
    "* gluc           70000 non-null int64\n",
    "* smoke          70000 non-null int64\n",
    "* alco           70000 non-null int64\n",
    "* active         70000 non-null int64\n",
    "* cardio         70000 non-null int64\n",
    "* dtypes: float64(1), int64(12)"
   ]
  },
  {
   "cell_type": "code",
   "execution_count": null,
   "metadata": {
    "_uuid": "625295ace815acd17ace230fe98b33217b9a9f34"
   },
   "outputs": [],
   "source": [
    "dataset.describe()"
   ]
  },
  {
   "cell_type": "code",
   "execution_count": null,
   "metadata": {
    "_uuid": "948a915099b59e6c896c80fa35bd8f8bac3dc8a2",
    "scrolled": true
   },
   "outputs": [],
   "source": [
    "dataset.head()"
   ]
  },
  {
   "cell_type": "markdown",
   "metadata": {
    "_uuid": "58d18a595d8363e20f6c952e256ce921e7cea311"
   },
   "source": [
    "As you can see:\n",
    "* The age is given by days.\n",
    "* Gender is denoted by 1 and 2 (Need to find what each number stands for).\n",
    "* Height is in centimeters, as integer values.\n",
    "* Weight is in kilograms, as float values.\n",
    "* Systolic (ap_hi) and Diastolic (ap_lo) blood pressure, as integer values.\n",
    "* Cholesterol and Glucose levels indicated by zone , as integer values.\n",
    "* Smoking, Alcholic intake and Physical Activity as Binary values.\n",
    "* Presence or absence of cardiovascular disease as Binary values."
   ]
  },
  {
   "cell_type": "markdown",
   "metadata": {
    "_uuid": "b4fd4bab0d516e580fbc5552c4862d60dbb3deba"
   },
   "source": [
    "Now let's check the affect each parameter has on the CVD.\n",
    "\n",
    "First starting with age, by converting days to years."
   ]
  },
  {
   "cell_type": "code",
   "execution_count": null,
   "metadata": {
    "_uuid": "0af9eabbb8c406424194f6677c2e8dea843817f6"
   },
   "outputs": [],
   "source": [
    "dataset['years'] = (dataset['age']/360).round().astype(int)\n",
    "dataset.head()"
   ]
  },
  {
   "cell_type": "markdown",
   "metadata": {
    "_uuid": "1f7857b44b92937b9858dc81d2db07a80462b637"
   },
   "source": [
    "Now plotting a graph to show the trend with CVDs and age"
   ]
  },
  {
   "cell_type": "code",
   "execution_count": null,
   "metadata": {
    "_uuid": "dfa4dea120bb0d6f550cbcdce99a2b856e9f13c4"
   },
   "outputs": [],
   "source": [
    "from matplotlib import rcParams\n",
    "rcParams['figure.figsize'] = 12, 8 #To change figure size\n",
    "sns.countplot(x = 'years', hue = 'cardio', data = dataset)"
   ]
  },
  {
   "cell_type": "markdown",
   "metadata": {
    "_uuid": "e6bd7f2de30822460318d5c83194e6b34e797802"
   },
   "source": [
    "As visible, people over the age of 55 show higher chances of being diaganosed with CVDs.\n",
    "\n",
    "Now we find whether 1 stands for male or female.\n",
    "Assuming the male population is generally taller."
   ]
  },
  {
   "cell_type": "code",
   "execution_count": null,
   "metadata": {
    "_uuid": "c210c30624e2d00a6ab2243243b0c0906cd9b6dc"
   },
   "outputs": [],
   "source": [
    "dataset.groupby('gender')['height'].mean()"
   ]
  },
  {
   "cell_type": "markdown",
   "metadata": {
    "_uuid": "7b957c0d5cdf76a95d345c6121cfbf3f5899af84"
   },
   "source": [
    "As you can see, mean height of 2 is greater than 1.\n",
    "\n",
    "Also, assuming that men generally weigh heavier than females,"
   ]
  },
  {
   "cell_type": "code",
   "execution_count": null,
   "metadata": {
    "_uuid": "e878ab1d96b26cc8a094334b2a7610be6448d427"
   },
   "outputs": [],
   "source": [
    "dataset.groupby('gender')['weight'].mean()"
   ]
  },
  {
   "cell_type": "markdown",
   "metadata": {
    "_uuid": "22f2d8ba99b8368e480af112c8db2fb56f4f0cd8"
   },
   "source": [
    "Mean weight of 2 > 1, hence our assumption is true.\n",
    "1 -> Female\n",
    "2 -> Male"
   ]
  },
  {
   "cell_type": "markdown",
   "metadata": {
    "_uuid": "5ef2250675754d62c7c4422f24c968c9f7a77d2a"
   },
   "source": [
    "Now, to check for height and weight:\n",
    "If you notice,\n",
    "* Id's are irrelevant.\n",
    "* The maximum height in the dataset is 250 cms.\n",
    "* The maximum weight in the dataset is 200 kgs.\n",
    "* The minimum height in the dataset is 55 cms.\n",
    "* The minimum weight in the dataset is 10 kgs.\n",
    "Now considering that the minimum age is 30 years and maximum age is 66 years,  it is highly likely that these cases are special and is better to treat them as outliers.\n",
    "    "
   ]
  },
  {
   "cell_type": "code",
   "execution_count": null,
   "metadata": {
    "_uuid": "209c3fd62b0c00d5b10864b3e81a3f7eb1d1d3e8"
   },
   "outputs": [],
   "source": [
    "dataset.drop(['id'], axis = 1, inplace = True)\n",
    "dataset.drop(dataset[(dataset['height'] > dataset['height'].quantile(0.975)) | (dataset['height'] < dataset['height'].quantile(0.025))].index,inplace=True)\n",
    "dataset.drop(dataset[(dataset['weight'] > dataset['weight'].quantile(0.975)) | (dataset['weight'] < dataset['weight'].quantile(0.025))].index,inplace=True)"
   ]
  },
  {
   "cell_type": "code",
   "execution_count": null,
   "metadata": {
    "_uuid": "d25c25cc10d043582f85c57529734f8ab2eebe6a"
   },
   "outputs": [],
   "source": [
    "dataset.describe()"
   ]
  },
  {
   "cell_type": "markdown",
   "metadata": {
    "_uuid": "7db3728855d5eafc3007213ee6caca138919f069"
   },
   "source": [
    "As you can now see, the minimum and maximum values for height and weight seems reasonable, after considering these values for over a range of 2.5%<= x <= 97.5%"
   ]
  },
  {
   "cell_type": "markdown",
   "metadata": {
    "_uuid": "697c54728edebf31d8adfa3283fa037bac2d663c"
   },
   "source": [
    "Now coming to the blood pressures.\n",
    "\n",
    "* We know that the diastolic blood pressure cannot exceed the systolic blood pressure.\n",
    "* Blood pressure cannot be negative.\n",
    "\n",
    "Using these constraints, we eliminate any outliers."
   ]
  },
  {
   "cell_type": "code",
   "execution_count": null,
   "metadata": {
    "_uuid": "b108430db362333e64c50e5cf692e8bed518ce02"
   },
   "outputs": [],
   "source": [
    "dataset.drop(dataset[(dataset['ap_hi'] > dataset['ap_hi'].quantile(0.975)) | (dataset['ap_hi'] < dataset['ap_hi'].quantile(0.025))].index,inplace=True)\n",
    "dataset.drop(dataset[(dataset['ap_lo'] > dataset['ap_lo'].quantile(0.975)) | (dataset['ap_lo'] < dataset['ap_lo'].quantile(0.025))].index,inplace=True)"
   ]
  },
  {
   "cell_type": "code",
   "execution_count": null,
   "metadata": {
    "_uuid": "c4334f2a35096f8cb18fc847131c3cb2368899de"
   },
   "outputs": [],
   "source": [
    "dataset.describe()"
   ]
  },
  {
   "cell_type": "code",
   "execution_count": null,
   "metadata": {
    "_uuid": "0b2685527af03ed52809c96d312a8d5012596a91"
   },
   "outputs": [],
   "source": [
    "dataset.head()"
   ]
  },
  {
   "cell_type": "markdown",
   "metadata": {
    "_uuid": "fe967e966c53b508f4f0fc5f4c2252b2b3435db4"
   },
   "source": [
    "Now, we'll separate our dataset into two part to avoid any major changes in the main dataset."
   ]
  },
  {
   "cell_type": "code",
   "execution_count": null,
   "metadata": {
    "_uuid": "3dcc2de357f157d953049f85cc36692708d033ef"
   },
   "outputs": [],
   "source": [
    "X = dataset.drop(['age', 'cardio'], axis = 1)\n",
    "y = dataset.iloc[:, -2]"
   ]
  },
  {
   "cell_type": "markdown",
   "metadata": {
    "_uuid": "4d6d0ac66f654115b91bc5dcfbb7e66463d3a95c"
   },
   "source": [
    "Now it's time to separate the features and the target values and then split the dataset into training and test set."
   ]
  },
  {
   "cell_type": "code",
   "execution_count": null,
   "metadata": {
    "_uuid": "e00e18ffecc7efab3dad28e8ee833e59d826de34"
   },
   "outputs": [],
   "source": [
    "from sklearn.model_selection import train_test_split\n",
    "X_train, X_test, y_train, y_test = train_test_split( X, y, test_size = 0.25, random_state = 0)\n",
    "print(X_train.shape)\n",
    "print(X_test.shape)\n",
    "print(y_train.shape)\n",
    "print(y_test.shape)"
   ]
  },
  {
   "cell_type": "markdown",
   "metadata": {
    "_uuid": "1be8d6b7559d1177888460c9f6b12dd8a5b7a0a8"
   },
   "source": [
    "Now let us check to see if there's any missing data."
   ]
  },
  {
   "cell_type": "code",
   "execution_count": null,
   "metadata": {
    "_uuid": "c3243ce48bbb6b9c19f4a1cd017d04812ac9868e"
   },
   "outputs": [],
   "source": [
    "dataset.isnull().values.any()"
   ]
  },
  {
   "cell_type": "markdown",
   "metadata": {
    "_uuid": "c34950fbe8d9be8099ac8f539148ca7fc427fc22"
   },
   "source": [
    "Since, there's no missing data, we proceed with Feature Scaling."
   ]
  },
  {
   "cell_type": "code",
   "execution_count": null,
   "metadata": {
    "_uuid": "7f314101e61378ce4b390f664e8282cc36e79dbb"
   },
   "outputs": [],
   "source": [
    "from sklearn.preprocessing import StandardScaler\n",
    "sc_X = StandardScaler()\n",
    "X_train = sc_X.fit_transform(X_train) \n",
    "X_test = sc_X.transform(X_test)"
   ]
  },
  {
   "cell_type": "markdown",
   "metadata": {
    "_uuid": "c4069bbdddc3b55eb33a608d2e2de5eec16ccd14"
   },
   "source": [
    "Let us create a class and list that will store our classifier's name, accuracy and the number of false negatives it generated.\n",
    "\n",
    "We are considering the false negatives to be of high concern because it is better to diagnose a person with no CVD as a patient with CVD rather than the contrary."
   ]
  },
  {
   "cell_type": "code",
   "execution_count": null,
   "metadata": {
    "_uuid": "b48bc2cc6391cbc410644e7f574b735939ea386f"
   },
   "outputs": [],
   "source": [
    "class Classifier:\n",
    "    def __init__(self, name, acc, falneg):\n",
    "        self.name = name\n",
    "        self.acc = acc\n",
    "        self.falneg = falneg\n",
    "    def __str__(self):\n",
    "        return (f\"Name of classifier: {self.name}\\tAccuracy: {self.acc}\\tNo. of False Negatives: {self.falneg}\")\n",
    "        \n",
    "clf_list = []"
   ]
  },
  {
   "cell_type": "markdown",
   "metadata": {
    "_uuid": "4d1a40e9a51cd562addb7e432322dc516630dda9"
   },
   "source": [
    "Now let's proceed with our models.\n",
    "\n",
    "Starting off with SVM.\n",
    "Radial Basis Kernel."
   ]
  },
  {
   "cell_type": "code",
   "execution_count": null,
   "metadata": {
    "_uuid": "51cdce5c2774d4c0e9cb8fde602290a00334f696"
   },
   "outputs": [],
   "source": [
    "from sklearn.svm import SVC\n",
    "svc_clf = SVC(kernel = 'rbf', gamma = 'scale', random_state = 0)\n",
    "svc_clf.fit(X_train, y_train)\n",
    "svc_pred = svc_clf.predict(X_test)\n",
    "from sklearn.metrics import accuracy_score\n",
    "acc_svc = accuracy_score(y_test,svc_pred)\n",
    "print(f\"Accuracy for this model {acc_svc*100}\")"
   ]
  },
  {
   "cell_type": "markdown",
   "metadata": {
    "_uuid": "825ea8cbf96d685cd3774e6d82bcd7b187532be3"
   },
   "source": [
    "Accuracy for this model 72.6855546687949%"
   ]
  },
  {
   "cell_type": "markdown",
   "metadata": {
    "_uuid": "c14eb0e5b63f7c942465cba1fae7e6365f986035"
   },
   "source": [
    "Let us see the confusion matrix for this kernel."
   ]
  },
  {
   "cell_type": "code",
   "execution_count": null,
   "metadata": {
    "_uuid": "a6b20252716c78f5521f1d05d2a28d76aa061362"
   },
   "outputs": [],
   "source": [
    "from sklearn.metrics import confusion_matrix\n",
    "cm = confusion_matrix(y_test, svc_pred)\n",
    "print(cm)"
   ]
  },
  {
   "cell_type": "markdown",
   "metadata": {
    "_uuid": "62097c967619fdaf57f2de8b0a8fd13ac610a151"
   },
   "source": [
    "[[6241 1497]\n",
    " [2610 4688]] \n",
    " Is the confusion matrix.\n",
    "\n",
    "As you can see, the number of false negatives is relatively quite high, which is a concern.\n",
    "\n",
    "Let us add the classifier to the list."
   ]
  },
  {
   "cell_type": "code",
   "execution_count": null,
   "metadata": {
    "_uuid": "0b1bda89f3460bf1448c604a5e7169f2ccd7d509"
   },
   "outputs": [],
   "source": [
    "clf_list.append(Classifier(\"SVC (rbf)\", round(acc_svc*100, 4), cm[1][0]))\n",
    "print(clf_list[0])"
   ]
  },
  {
   "cell_type": "markdown",
   "metadata": {
    "_uuid": "a124cfe28ca2c892c86f0b50ec4f08649fb04c57"
   },
   "source": [
    "Now let us see for the polynomial kernel of SVC."
   ]
  },
  {
   "cell_type": "code",
   "execution_count": null,
   "metadata": {
    "_uuid": "dbbcc70e6f2665387ce1329d205132aaad573dce"
   },
   "outputs": [],
   "source": [
    "from sklearn.svm import SVC\n",
    "svc_poly_clf = SVC(kernel = 'poly', degree = 3, gamma = 'scale', random_state = 0)\n",
    "svc_poly_clf.fit(X_train, y_train)\n",
    "svc_poly_pred = svc_poly_clf.predict(X_test)\n",
    "from sklearn.metrics import accuracy_score\n",
    "acc_poly_svc = accuracy_score(y_test, svc_poly_pred)\n",
    "print(f\"Accuracy for this model {acc_poly_svc*100}\")"
   ]
  },
  {
   "cell_type": "markdown",
   "metadata": {
    "_uuid": "fc10e0e140765f7eaddfd22d7835259632c79859"
   },
   "source": [
    "* Accuracy for this model 71.60814046288907% (degree = 3).\n",
    "* Accuracy for this model 70.85661080074487% (degree = 4).\n",
    "* Accuracy for this model 69.61957967544559% (degree = 5).\n",
    "\n",
    "Therefore, as we increase the degree for the polynomial SVC, it's accuracy decreases."
   ]
  },
  {
   "cell_type": "markdown",
   "metadata": {
    "_uuid": "9f33d02cf843e6a7621d3d4d3b1ff46dd94525fd"
   },
   "source": [
    "Let us see the confusion matrix for this kernel."
   ]
  },
  {
   "cell_type": "code",
   "execution_count": null,
   "metadata": {
    "_uuid": "277a23d23619f25671f06db9ade0b13767d5f55a"
   },
   "outputs": [],
   "source": [
    "from sklearn.metrics import confusion_matrix\n",
    "cm = confusion_matrix(y_test, svc_poly_pred)\n",
    "print(cm)"
   ]
  },
  {
   "cell_type": "markdown",
   "metadata": {
    "_uuid": "547bf58cbb8b24a04bd11e9a6003791aaab877e3"
   },
   "source": [
    "[[6392 1346]\n",
    " [2924 4374]]\n",
    "  Is the confusion matrix.\n",
    " \n",
    " As you can see, the number of false negatives is more than that of the rbf kernel, moreover the accuracy score of rbf is greater than that of the 3rd degree polynomial model.\n",
    "\n",
    "Hence, let us move add the polynomial kernel to the list."
   ]
  },
  {
   "cell_type": "code",
   "execution_count": null,
   "metadata": {
    "_uuid": "963385854139fe85e3018ac9dfde087efdec6437"
   },
   "outputs": [],
   "source": [
    "clf_list.append(Classifier(\"SVC (degree = 3)\", round(acc_poly_svc*100, 4), cm[1][0]))\n",
    "print(clf_list[1])"
   ]
  },
  {
   "cell_type": "markdown",
   "metadata": {
    "_uuid": "74b3c656a3103163d6ff504cec4d31d8574e2881"
   },
   "source": [
    "Now, let us try the Naïve Bayes Model."
   ]
  },
  {
   "cell_type": "code",
   "execution_count": null,
   "metadata": {
    "_uuid": "d38f57ea0abc6a4d0f5a6dbba751463560a8f7c2"
   },
   "outputs": [],
   "source": [
    "from sklearn.naive_bayes import GaussianNB\n",
    "nb_clf = GaussianNB()\n",
    "nb_clf.fit(X_train, y_train)\n",
    "nb_pred = nb_clf.predict(X_test)\n",
    "from sklearn.metrics import accuracy_score\n",
    "acc_nb = accuracy_score(y_test,nb_pred)\n",
    "print(f\"Accuracy for this model {acc_nb*100}\")"
   ]
  },
  {
   "cell_type": "markdown",
   "metadata": {
    "_uuid": "f14f470d7b8353bf96f3415848e22ef793407966"
   },
   "source": [
    "Accuracy for this model 71.32881085395051%"
   ]
  },
  {
   "cell_type": "markdown",
   "metadata": {
    "_uuid": "4f7615534f1ce15e52addfa9afe8949fa4ed29ef"
   },
   "source": [
    "Let us see the confusion matrix for this model."
   ]
  },
  {
   "cell_type": "code",
   "execution_count": null,
   "metadata": {
    "_uuid": "69fefa49fa76fd843986c1550f66c1e61cd373e2"
   },
   "outputs": [],
   "source": [
    "from sklearn.metrics import confusion_matrix\n",
    "cm = confusion_matrix(y_test, nb_pred)\n",
    "print(cm)"
   ]
  },
  {
   "cell_type": "markdown",
   "metadata": {
    "_uuid": "adbd2b0c48419e825954952d4517fdf93948de07"
   },
   "source": [
    "[[6261 1477]\n",
    "[2834 4464]]\n",
    " \n",
    "Is the confusion matrix.\n",
    " \n",
    "Let us add this classifier to our list."
   ]
  },
  {
   "cell_type": "code",
   "execution_count": null,
   "metadata": {
    "_uuid": "b08fc4e3915dab8a2ce1c97f90ce648e93e16069"
   },
   "outputs": [],
   "source": [
    "clf_list.append(Classifier(\"Naïve Bayes\", round(acc_nb*100, 4), cm[1][0]))\n",
    "print(clf_list[2])"
   ]
  },
  {
   "cell_type": "markdown",
   "metadata": {
    "_uuid": "5d7825506c0b369d9888b8e12f9dbf832118a844"
   },
   "source": [
    "Now,  let us try the Random Forest Classification Model."
   ]
  },
  {
   "cell_type": "code",
   "execution_count": null,
   "metadata": {
    "_uuid": "63e8ceffae8d156db41fcab438008e76a5251632"
   },
   "outputs": [],
   "source": [
    "from sklearn.ensemble import RandomForestClassifier\n",
    "rf_clf = RandomForestClassifier(n_estimators = 100, criterion = 'entropy', random_state = 0)\n",
    "rf_clf.fit(X_train, y_train)\n",
    "rf_pred = rf_clf.predict(X_test)\n",
    "from sklearn.metrics import accuracy_score\n",
    "acc_rf = accuracy_score(y_test,rf_pred)\n",
    "print(f\"Accuracy for this model {acc_rf*100}\")"
   ]
  },
  {
   "cell_type": "markdown",
   "metadata": {
    "_uuid": "47478713fbdd79019a3c5b24028badc0ba1b618e"
   },
   "source": [
    "Accuracy for this model 69.74594306996542%, which is not as good."
   ]
  },
  {
   "cell_type": "markdown",
   "metadata": {
    "_uuid": "198777987d6b28cefa5546e3d7ed6736e4415d90"
   },
   "source": [
    "Let us see the confusion matrix for this model."
   ]
  },
  {
   "cell_type": "code",
   "execution_count": null,
   "metadata": {
    "_uuid": "98ac086c8bd9966071a624e3543d98299b0b38dd"
   },
   "outputs": [],
   "source": [
    "from sklearn.metrics import confusion_matrix\n",
    "cm = confusion_matrix(y_test, rf_pred)\n",
    "print(cm)"
   ]
  },
  {
   "cell_type": "markdown",
   "metadata": {
    "_uuid": "9297dfb101d0333f60b0872284c6279e9cf5f3a7"
   },
   "source": [
    "[[5573 2165]\n",
    "[2384 4914]]\n",
    "\n",
    "Is the confusion matrix.\n",
    "    \n",
    "If you observe the false negatives, it is quite good comapred to the other models.\n",
    "\n",
    "Let us add this classifier to our list."
   ]
  },
  {
   "cell_type": "code",
   "execution_count": null,
   "metadata": {
    "_uuid": "c2be74a28636fd3d2398da5dc3bd3f819a48255b"
   },
   "outputs": [],
   "source": [
    "clf_list.append(Classifier(\"Random Forest\", round(acc_rf*100, 4), cm[1][0]))\n",
    "print(clf_list[3])"
   ]
  },
  {
   "cell_type": "markdown",
   "metadata": {
    "_uuid": "3b873c9a4ad3e364040c9fb9781c56e9cf3fecab"
   },
   "source": [
    "Now, let us try the K-Nearest Neighbours Model"
   ]
  },
  {
   "cell_type": "code",
   "execution_count": null,
   "metadata": {
    "_uuid": "7b1bc8d6f7dd0642e33c933d73b3e257c47ab84e"
   },
   "outputs": [],
   "source": [
    "from sklearn.neighbors import KNeighborsClassifier\n",
    "kn_clf = KNeighborsClassifier(n_neighbors = 150, metric = 'minkowski', p = 2)\n",
    "kn_clf.fit(X_train, y_train)\n",
    "kn_pred = kn_clf.predict(X_test)\n",
    "from sklearn.metrics import accuracy_score\n",
    "acc_kn = accuracy_score(y_test,kn_pred)\n",
    "print(f\"Accuracy for this model {acc_kn*100}\")"
   ]
  },
  {
   "cell_type": "markdown",
   "metadata": {
    "_uuid": "bbb9a26688760db5a93d3c8e7735afd534d4511f"
   },
   "source": [
    "Accuracy for this model 72.29316307528599"
   ]
  },
  {
   "cell_type": "markdown",
   "metadata": {
    "_uuid": "6b1cb642d558d7be39eb7866eb3273b82e5d2f75"
   },
   "source": [
    "Let us see the confusion matrix for this model."
   ]
  },
  {
   "cell_type": "code",
   "execution_count": null,
   "metadata": {
    "_uuid": "b4db8af8f46984a28b14b26544c208e37bb8e28e"
   },
   "outputs": [],
   "source": [
    "from sklearn.metrics import confusion_matrix\n",
    "cm = confusion_matrix(y_test, kn_pred)\n",
    "print(cm)"
   ]
  },
  {
   "cell_type": "markdown",
   "metadata": {
    "_uuid": "56ca1a117a460deaaaad300fd49f76a5d8bb80eb"
   },
   "source": [
    "[[6235 1503]\n",
    "[2663 4635]]\n",
    "\n",
    "Is the confusion matrix.\n",
    "  \n",
    "The number of false negatives for this model is somewhat average.\n",
    "  \n",
    "Let us add this classifier to our list."
   ]
  },
  {
   "cell_type": "code",
   "execution_count": null,
   "metadata": {
    "_uuid": "3f89b5385b799b63d44852e91d20d4f3457a6dd2"
   },
   "outputs": [],
   "source": [
    "clf_list.append(Classifier(\"K-NN\", round(acc_kn*100, 4), cm[1][0]))\n",
    "print(clf_list[4])"
   ]
  },
  {
   "cell_type": "markdown",
   "metadata": {
    "_uuid": "91b8111995a269808e7466eb865c3ad9bd2b0a53"
   },
   "source": [
    "Now,  let us try the Logistic Regression model."
   ]
  },
  {
   "cell_type": "code",
   "execution_count": null,
   "metadata": {
    "_uuid": "9e055a1bd25c311d080241351cf90b7bc063d8bd"
   },
   "outputs": [],
   "source": [
    "from sklearn.linear_model import LogisticRegression\n",
    "lr_clf = LogisticRegression(random_state = 0, solver = 'liblinear', multi_class = 'ovr')\n",
    "lr_clf.fit(X_train, y_train)\n",
    "lr_pred = lr_clf.predict(X_test)\n",
    "from sklearn.metrics import accuracy_score\n",
    "acc_lr = accuracy_score(y_test, lr_pred)\n",
    "print(f\"Accuracy for this model {acc_lr*100}\")"
   ]
  },
  {
   "cell_type": "markdown",
   "metadata": {
    "_uuid": "96667d3f027216e8f8ea38e076d19d66eb2089b3"
   },
   "source": [
    "Accuracy for this model 72.41952646980579%"
   ]
  },
  {
   "cell_type": "markdown",
   "metadata": {
    "_uuid": "a52afca6b0e106de8407b87c95531584104742fa"
   },
   "source": [
    "Let us see the confusion matrix for this model."
   ]
  },
  {
   "cell_type": "code",
   "execution_count": null,
   "metadata": {
    "_uuid": "c8d90ca223846a9d98a60ad55629f751b095ffcf"
   },
   "outputs": [],
   "source": [
    "from sklearn.metrics import confusion_matrix\n",
    "cm = confusion_matrix(y_test, lr_pred)\n",
    "print(cm)"
   ]
  },
  {
   "cell_type": "markdown",
   "metadata": {
    "_uuid": "fa59a179df1030b3c0828df22673f38f23d9e320"
   },
   "source": [
    " [[6126 1612]\n",
    " [2535 4763]]\n",
    "  \n",
    "Is the confusion matrix.\n",
    "  \n",
    "The number of false negatives for this model is somewhat decent.\n",
    "  \n",
    "Let us add this classifier to our list."
   ]
  },
  {
   "cell_type": "code",
   "execution_count": null,
   "metadata": {
    "_uuid": "fb1958d6257a180fa01478b5dd7a35e7d66307f1"
   },
   "outputs": [],
   "source": [
    "clf_list.append(Classifier(\"Logistic Regression\", round(acc_lr*100, 4), cm[1][0]))\n",
    "print(clf_list[5])"
   ]
  },
  {
   "cell_type": "markdown",
   "metadata": {
    "_uuid": "cdd4eb1dc697d28f9c09969fb5d842e092907e5a"
   },
   "source": [
    "Let us take a look at the scores of all our models."
   ]
  },
  {
   "cell_type": "code",
   "execution_count": null,
   "metadata": {
    "_uuid": "cc3172361fa80b4790051c42293820c0cd2b596d"
   },
   "outputs": [],
   "source": [
    "for model in clf_list:\n",
    "    print(model)"
   ]
  },
  {
   "cell_type": "code",
   "execution_count": null,
   "metadata": {
    "_uuid": "ad65d8916c98f90a1895748549a209c870313a12"
   },
   "outputs": [],
   "source": []
  }
 ],
 "metadata": {
  "kernelspec": {
   "display_name": "Python 3",
   "language": "python",
   "name": "python3"
  },
  "language_info": {
   "codemirror_mode": {
    "name": "ipython",
    "version": 3
   },
   "file_extension": ".py",
   "mimetype": "text/x-python",
   "name": "python",
   "nbconvert_exporter": "python",
   "pygments_lexer": "ipython3",
   "version": "3.7.1"
  }
 },
 "nbformat": 4,
 "nbformat_minor": 1
}
